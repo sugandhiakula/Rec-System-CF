{
  "nbformat": 4,
  "nbformat_minor": 0,
  "metadata": {
    "colab": {
      "name": "CF.ipynb",
      "provenance": [],
      "collapsed_sections": []
    },
    "kernelspec": {
      "name": "python3",
      "display_name": "Python 3"
    }
  },
  "cells": [
    {
      "cell_type": "markdown",
      "metadata": {
        "id": "ytVlmDldSaua"
      },
      "source": [
        "Import the necessary packages"
      ]
    },
    {
      "cell_type": "code",
      "metadata": {
        "id": "6hes5Dkla77o"
      },
      "source": [
        "import numpy as np\n",
        "import csv\n",
        "from csv import DictReader\n",
        "import collections\n",
        "from math import sqrt\n",
        "import numpy as np\n",
        "import math\n",
        "import collections\n",
        "from sklearn.metrics import mean_squared_error\n",
        "from math import sqrt"
      ],
      "execution_count": 1,
      "outputs": []
    },
    {
      "cell_type": "code",
      "metadata": {
        "id": "FPogpO6Igkq-",
        "outputId": "29d18a23-5f01-40db-c6ff-7c4880b54236",
        "colab": {
          "base_uri": "https://localhost:8080/"
        }
      },
      "source": [
        "from google.colab import drive\n",
        "drive.mount('/content/drive')"
      ],
      "execution_count": 2,
      "outputs": [
        {
          "output_type": "stream",
          "text": [
            "Mounted at /content/drive\n"
          ],
          "name": "stdout"
        }
      ]
    },
    {
      "cell_type": "code",
      "metadata": {
        "id": "jDHCyg3wa9B5"
      },
      "source": [
        "traindata='/content/drive/My Drive/Big Data Analytics/Project 4/training_dataset.csv'\n",
        "testdata='/content/drive/My Drive/Big Data Analytics/Project 4/test_dataset.csv'"
      ],
      "execution_count": 3,
      "outputs": []
    },
    {
      "cell_type": "markdown",
      "metadata": {
        "id": "bv38ZFbESenv"
      },
      "source": [
        "Creating a dictionary with users in the test dataset as keys and the movies they rated + ratings as values:"
      ]
    },
    {
      "cell_type": "code",
      "metadata": {
        "id": "uGKF5GL0YHvl"
      },
      "source": [
        "testuserrat = collections.defaultdict(collections.defaultdict)\n",
        "with open(testdata, 'r') as file:\n",
        "  f = list(csv.reader(file))[1:]\n",
        "for rat in f:\n",
        "  try:\n",
        "    testuserrat[rat[0]][rat[1]] = rat[2]\n",
        "  except:\n",
        "    pass"
      ],
      "execution_count": 4,
      "outputs": []
    },
    {
      "cell_type": "code",
      "metadata": {
        "id": "lj4LNUIwMlrc",
        "outputId": "0f6ca4d4-ac87-442d-be72-d9c57157863c",
        "colab": {
          "base_uri": "https://localhost:8080/"
        }
      },
      "source": [
        "users = list(testuserrat.keys())\n",
        "len(users)"
      ],
      "execution_count": 5,
      "outputs": [
        {
          "output_type": "execute_result",
          "data": {
            "text/plain": [
              "100"
            ]
          },
          "metadata": {
            "tags": []
          },
          "execution_count": 5
        }
      ]
    },
    {
      "cell_type": "markdown",
      "metadata": {
        "id": "DhSaawPASp5T"
      },
      "source": [
        "Creating a dictionary with users in the training dataset as keys and the movies they rated + ratings as values:"
      ]
    },
    {
      "cell_type": "code",
      "metadata": {
        "id": "D65W6_M5lZ5I"
      },
      "source": [
        "# Dictionary with users as keys and movies: rating as values\n",
        "trainuserrat = collections.defaultdict(collections.defaultdict)\n",
        "with open(traindata, 'r') as file:\n",
        "  fl = list(csv.reader(file))[1:]\n",
        "for rat in fl:\n",
        "  try:\n",
        "      trainuserrat[rat[0]][rat[1]] = rat[2]\n",
        "  except:\n",
        "      pass"
      ],
      "execution_count": 6,
      "outputs": []
    },
    {
      "cell_type": "code",
      "metadata": {
        "id": "KdAwf8Aha3SQ",
        "outputId": "3d52faf2-ca0f-42df-9bf3-d681cc1cd329",
        "colab": {
          "base_uri": "https://localhost:8080/"
        }
      },
      "source": [
        "users = list(trainuserrat.keys())\n",
        "len(users)"
      ],
      "execution_count": 7,
      "outputs": [
        {
          "output_type": "execute_result",
          "data": {
            "text/plain": [
              "943"
            ]
          },
          "metadata": {
            "tags": []
          },
          "execution_count": 7
        }
      ]
    },
    {
      "cell_type": "markdown",
      "metadata": {
        "id": "aFd0oKUfS4hN"
      },
      "source": [
        "Creating a dictionary with movies in the training dataset as keys and the users that rated the movie + the rating they gave as values:"
      ]
    },
    {
      "cell_type": "code",
      "metadata": {
        "id": "LHownwGrWV0t"
      },
      "source": [
        "# Dictionary with movies as keys and users + ratings as values\n",
        "trainmovrat = collections.defaultdict(collections.defaultdict)\n",
        "with open(traindata, 'r') as file:\n",
        "  fl = list(csv.reader(file))[1:]\n",
        "for rat in fl:\n",
        "    try:\n",
        "      trainmovrat[rat[1]][rat[0]] = rat[2]\n",
        "    except:\n",
        "      pass\n",
        "  "
      ],
      "execution_count": 8,
      "outputs": []
    },
    {
      "cell_type": "code",
      "metadata": {
        "id": "5p0bLzvkXgw0",
        "outputId": "ae09b8e0-e4f5-4866-f0eb-cd1f2b4180e6",
        "colab": {
          "base_uri": "https://localhost:8080/"
        }
      },
      "source": [
        "len(trainmovrat.keys())"
      ],
      "execution_count": 10,
      "outputs": [
        {
          "output_type": "execute_result",
          "data": {
            "text/plain": [
              "1665"
            ]
          },
          "metadata": {
            "tags": []
          },
          "execution_count": 10
        }
      ]
    },
    {
      "cell_type": "markdown",
      "metadata": {
        "id": "UL_U1msvTA2c"
      },
      "source": [
        "Function to define cosine similarity between two movies:"
      ]
    },
    {
      "cell_type": "code",
      "metadata": {
        "id": "FPHXnoVepcy8"
      },
      "source": [
        "# This function takes two movies as parameters and returns the cosine similarity between the two movies.\n",
        "# Parameters:\n",
        "# 1. mov1: first movie\n",
        "# 2. mov2: second movie\n",
        "# Returns the cosine similarity between two movies\n",
        "def cos_sim(mov1, mov2):\n",
        "  # Calcuating the denominator to plug into the formula:\n",
        "  # 1. Calculating the square root of the sum of squares\n",
        "  #    of all the ratings for both movies, and then multiplying these values\n",
        "  denom = sqrt(sum(map(lambda x:int(x)*int(x),list(trainmovrat[mov1].values())))) * sqrt(sum(map(lambda x:int(x)*int(x),list(trainmovrat[mov2].values()))))\n",
        "  sum_noom = 0\n",
        "  # Calculating the numerator:\n",
        "  # 1. Multiplying ratings for users that have rated both movies\n",
        "  for k, v in trainmovrat[mov1].items():\n",
        "    try:\n",
        "      sum_noom += int(trainmovrat[mov1][k])*int(trainmovrat[mov2][k])\n",
        "    except:\n",
        "      pass\n",
        "  try:\n",
        "    # Returning the similarity, rounded to two places\n",
        "    return round(sum_noom/denom,2)\n",
        "  except:\n",
        "    return 0"
      ],
      "execution_count": 9,
      "outputs": []
    },
    {
      "cell_type": "markdown",
      "metadata": {
        "id": "qE5l_cgCVD0o"
      },
      "source": [
        "Calculating the mean rating for each user in the training dataset, to use in the formula for adjusted cosine similarity:"
      ]
    },
    {
      "cell_type": "code",
      "metadata": {
        "id": "sfI02G1G-nTB"
      },
      "source": [
        "mean_ratings = collections.defaultdict()\n",
        "for k, v in trainuserrat.items():\n",
        "  try:\n",
        "    mean_ratings[k] = sum(list(map(lambda x: float(x),list(v.values()))))/len(v.values())\n",
        "  except:\n",
        "    pass"
      ],
      "execution_count": 10,
      "outputs": []
    },
    {
      "cell_type": "markdown",
      "metadata": {
        "id": "bkNBmlblVRNW"
      },
      "source": [
        "Function to calculate the adjusted cosine similarity between two movies:"
      ]
    },
    {
      "cell_type": "code",
      "metadata": {
        "id": "R-C6ENKK4BZt"
      },
      "source": [
        "# This function takes two movies as parameters and returns the adjusted cosine similarity between them.\n",
        "# Parameters:\n",
        "# 1. mov1: first movie\n",
        "# 2. mov2: second movie\n",
        "# Returns the adjusted cosine similarity between two movies\n",
        "def adj_cos_sim(mov1, mov2):\n",
        "  # Calcuating the denominator to plug into the formula:\n",
        "  # 1. Calculating the square root of the sum of squares\n",
        "  #    of all the ratings, minus the average rating for each user, for both movies, and then multiplying these values\n",
        "  adj_rat1 = sum([(float(rating) - mean_ratings[user])**2 for user, rating in trainmovrat[mov1].items()])  \n",
        "  adj_rat2 = sum([(float(rating) - mean_ratings[user])**2 for user, rating in trainmovrat[mov2].items()])\n",
        "  denom = sqrt(adj_rat1)*sqrt(adj_rat2)\n",
        "  sum_noom = 0\n",
        "  # Calculating the numerator:\n",
        "  # 1. Multiplying ratings for users that have rated both movies, after the \n",
        "  #    average rating for the user has been subtracted from the rating for the movie\n",
        "  for k, v in trainmovrat[mov1].items():\n",
        "    try:\n",
        "      sum_noom += (float(trainmovrat[mov1][k])-mean_ratings[k])*(float(trainmovrat[mov2][k])-mean_ratings[k])\n",
        "    except:\n",
        "      pass\n",
        "  try:\n",
        "    return round(sum_noom/denom,2)\n",
        "  except:\n",
        "    return 0"
      ],
      "execution_count": 11,
      "outputs": []
    },
    {
      "cell_type": "code",
      "metadata": {
        "id": "7ukb3cEPVpR0"
      },
      "source": [
        "sim_cos = collections.defaultdict(collections.defaultdict)\n",
        "sim_adj_cos = collections.defaultdict(collections.defaultdict)\n",
        "final = {'cosine':sim_cos,'adjusted cosine':sim_adj_cos}"
      ],
      "execution_count": 12,
      "outputs": []
    },
    {
      "cell_type": "markdown",
      "metadata": {
        "id": "IfJPtglOWwvZ"
      },
      "source": [
        "Predicting the rating that a user will give a movie:"
      ]
    },
    {
      "cell_type": "code",
      "metadata": {
        "id": "AlnLIYzYjDtI"
      },
      "source": [
        "# Custom function to predict what rating a user will give a movie, with the \n",
        "# option to select the kind of similarity to be used in making predictions\n",
        "# Parameters:\n",
        "# 1. user: The user who must rate a movie\n",
        "# 2. movie: The movie for which the user's rating must be predicted\n",
        "# 3. similarity: The similarity measure to be used\n",
        "# 4. t: The threshold for the similarity measure above which a movie will be \n",
        "#       used for making predictions\n",
        "# Returns the predicted rating for a movie by the user\n",
        "\n",
        "# Dictionary to store function names that will be invoked later\n",
        "methods = {'cosine':cos_sim,'adjusted cosine':adj_cos_sim}\n",
        "def predict(user, movie, similarity, t):\n",
        "  similar = collections.defaultdict(collections.defaultdict)\n",
        "  for movie2 in trainmovrat.keys():\n",
        "      if movie != movie2:\n",
        "        try:\n",
        "          # Using the appropriate function to calculate the similarity\n",
        "          x = final[similarity][movie][movie2]\n",
        "        except:\n",
        "          x = methods[similarity](movie,movie2)\n",
        "          final[similarity][movie][movie2] = x\n",
        "          # Only if the similarity score is greater than the threshold, the \n",
        "          # movie will be used for making predictions, later\n",
        "        if x >= t:\n",
        "          similar[movie][movie2] = x \n",
        "            #final[similarity].update(similar)\n",
        "        #except:\n",
        "          #pass\n",
        "  sim_movs = similar[movie]\n",
        "  numer = 0\n",
        "  denom = 0\n",
        "  # For each similar movie pair, the prediction is calculated:\n",
        "  #   Numerator: sum of (similarity of movie of similar movie*rating that the user gave the movie)\n",
        "  #   Denominator: sum of similarities of all similar movies\n",
        "  for k,v in sim_movs.items():\n",
        "    try:\n",
        "      numer+= (float(v)*float(trainuserrat[user][k]))\n",
        "      denom+= float(v)\n",
        "    except:\n",
        "      pass\n",
        "  try:\n",
        "    return round(numer/denom,2)\n",
        "  except:\n",
        "    return 0"
      ],
      "execution_count": 13,
      "outputs": []
    },
    {
      "cell_type": "markdown",
      "metadata": {
        "id": "ArrHgw5sZB5R"
      },
      "source": [
        "Predicting the rating that user 805 will give movie 41, using the cosine similarity, and a threshold of 0.1:"
      ]
    },
    {
      "cell_type": "code",
      "metadata": {
        "id": "Y7veckzxxBGY",
        "outputId": "1b197691-c5b9-4032-d0c3-ccb8b04815d1",
        "colab": {
          "base_uri": "https://localhost:8080/"
        }
      },
      "source": [
        "predict('805','41','cosine',0.1)"
      ],
      "execution_count": 14,
      "outputs": [
        {
          "output_type": "execute_result",
          "data": {
            "text/plain": [
              "3.17"
            ]
          },
          "metadata": {
            "tags": []
          },
          "execution_count": 14
        }
      ]
    },
    {
      "cell_type": "markdown",
      "metadata": {
        "id": "g2MgWCQmZoR1"
      },
      "source": [
        "Function to calculate the RMSE:"
      ]
    },
    {
      "cell_type": "code",
      "metadata": {
        "id": "t18SI0evhDt_"
      },
      "source": [
        "def RMSE(y_actual, y_predicted):\n",
        "  rms = sqrt(mean_squared_error(y_actual, y_predicted))\n",
        "  return round(rms,4)"
      ],
      "execution_count": 15,
      "outputs": []
    },
    {
      "cell_type": "markdown",
      "metadata": {
        "id": "d_HZ2Y2HZyAm"
      },
      "source": [
        "Function to calculate the RMSE for a certain measure:"
      ]
    },
    {
      "cell_type": "code",
      "metadata": {
        "id": "3AykyZQrp8my"
      },
      "source": [
        "# Function to calculate the RMSE for a method by taking all the movies \n",
        "# in the test dataset, predicting the rating based on the similarity, \n",
        "# and then calculating the RMSE between the actual and predicted ratings\n",
        "# Parameters:\n",
        "# 1. similarity: The similarity measure being used to make the predictions\n",
        "# 2. t: threshold for the similarity measure above which movies will be taken \n",
        "#       into account for making predictions\n",
        "# Returns the RMSE for the predictions when the given similarity and threshold \n",
        "# given\n",
        "def prediction_rmse(similarity,t):\n",
        "  actual = []\n",
        "  preds = []\n",
        "  i = 0\n",
        "  for k, v in testuserrat.items():\n",
        "    for mov, rat in v.items():\n",
        "      try:\n",
        "        actual.append(int(testuserrat[k][mov]))\n",
        "        preds.append(predict(k,mov,similarity,t))\n",
        "      except:\n",
        "        preds.append(0)\n",
        "        #pass\n",
        "  return RMSE(actual, preds)\n",
        "  #return (actual, preds, fails)\n"
      ],
      "execution_count": 18,
      "outputs": []
    },
    {
      "cell_type": "markdown",
      "metadata": {
        "id": "H9-BkGvlxJWP"
      },
      "source": [
        "RMSE when the cosine similarity measure is used and the threshold is 0.5:"
      ]
    },
    {
      "cell_type": "code",
      "metadata": {
        "id": "8Cf5nmqjxT6o",
        "outputId": "6fa21a89-a7ae-4f7e-c0ce-df0c2758cc63",
        "colab": {
          "base_uri": "https://localhost:8080/"
        }
      },
      "source": [
        "prediction_rmse('cosine',0.5)"
      ],
      "execution_count": 21,
      "outputs": [
        {
          "output_type": "execute_result",
          "data": {
            "text/plain": [
              "2.5099"
            ]
          },
          "metadata": {
            "tags": []
          },
          "execution_count": 21
        }
      ]
    },
    {
      "cell_type": "markdown",
      "metadata": {
        "id": "Dwu7QlZfNB_h"
      },
      "source": [
        "RMSE when the cosine similarity measure is used and the threshold is 0.1: (a decrease is observed) "
      ]
    },
    {
      "cell_type": "code",
      "metadata": {
        "id": "7Ca9PezBM4cW",
        "outputId": "df58b4f4-cc18-4f87-dbfe-00dfc696640b",
        "colab": {
          "base_uri": "https://localhost:8080/"
        }
      },
      "source": [
        "prediction_rmse('cosine',0.1)"
      ],
      "execution_count": 19,
      "outputs": [
        {
          "output_type": "execute_result",
          "data": {
            "text/plain": [
              "1.0086"
            ]
          },
          "metadata": {
            "tags": []
          },
          "execution_count": 19
        }
      ]
    },
    {
      "cell_type": "markdown",
      "metadata": {
        "id": "iJXfJKlQxiXX"
      },
      "source": [
        "RMSE when the adjusted cosine similarity measure is used and the threshold is 0.5:"
      ]
    },
    {
      "cell_type": "code",
      "metadata": {
        "id": "e779r14ixlZW",
        "outputId": "3270c18e-5750-4e3c-db6a-3522c523377d",
        "colab": {
          "base_uri": "https://localhost:8080/"
        }
      },
      "source": [
        "prediction_rmse('adjusted cosine',0.5)"
      ],
      "execution_count": 22,
      "outputs": [
        {
          "output_type": "execute_result",
          "data": {
            "text/plain": [
              "3.5572"
            ]
          },
          "metadata": {
            "tags": []
          },
          "execution_count": 22
        }
      ]
    },
    {
      "cell_type": "markdown",
      "metadata": {
        "id": "oKnprRjbNJCc"
      },
      "source": [
        "RMSE when the adjusted cosine similarity measure is used and the threshold is 0.1:"
      ]
    },
    {
      "cell_type": "code",
      "metadata": {
        "id": "Eth_KLBbzz6m",
        "outputId": "343b7e50-c2fe-45fd-a287-3806e565fa19",
        "colab": {
          "base_uri": "https://localhost:8080/"
        }
      },
      "source": [
        "prediction_rmse('adjusted cosine',0.1)"
      ],
      "execution_count": 20,
      "outputs": [
        {
          "output_type": "execute_result",
          "data": {
            "text/plain": [
              "0.9135"
            ]
          },
          "metadata": {
            "tags": []
          },
          "execution_count": 20
        }
      ]
    },
    {
      "cell_type": "markdown",
      "metadata": {
        "id": "gm7s4zebiRZq"
      },
      "source": [
        "------------------------------------------------------------------------------------"
      ]
    },
    {
      "cell_type": "markdown",
      "metadata": {
        "id": "9LCBy-ysx7ce"
      },
      "source": [
        "Teamwork Documentation\n",
        "\n",
        "Collaborative Item Item Filtering Model – Rushya Puttam\n",
        "\n",
        "* Loading training, test data into python\n",
        "* Import CSV Reader\n",
        "* Importing other necessary packages - \n",
        "* Idea on creating nested dictionaries\n",
        "* On Test & Train Datasets: Creating nested dictionary with users as keys and movie, ratings as values\n",
        "* On Train Dataset: Creating nested dictionary with movies as keys and users, ratings as values\n",
        "* On Train Dataset: Creating dictionary with keys as users and values as their average movie ratings\n",
        "* On Train Dataset: Creating dictionary with users and their average rating\n",
        "* Defining a function for cosine similarity calculation\n",
        "* Defining a function for adjusted cosine similarity calculation\n",
        "* Defining a function to predict unknown ratings\n",
        "* Retrieving only predicted, actual values of ratings\n",
        "* Passing into given RMSE function and calling it to get the RMSE on test data"
      ]
    },
    {
      "cell_type": "code",
      "metadata": {
        "id": "sEurM63-yHIs"
      },
      "source": [
        ""
      ],
      "execution_count": null,
      "outputs": []
    }
  ]
}